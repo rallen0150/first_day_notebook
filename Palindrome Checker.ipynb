{
 "cells": [
  {
   "cell_type": "code",
   "execution_count": 1,
   "metadata": {
    "collapsed": false
   },
   "outputs": [
    {
     "name": "stdout",
     "output_type": "stream",
     "text": [
      "Enter a word or phrase: Ed, I saw Harpo Marx ram Oprah W. aside.\n",
      "'Ed, I saw Harpo Marx ram Oprah W. aside.' is a palindrome!\n"
     ]
    }
   ],
   "source": [
    "palindrome = input(\"Enter a word or phrase: \")\n",
    "new_palindrome = palindrome.replace(\" \",\"\").replace(\",\" , \"\").replace(\"!\" , \"\").replace(\":\" , \"\").replace(\".\" , \"\").replace(\"?\" , \"\").replace(\";\" , \"\").replace(\"'\" , \"\")\n",
    "if new_palindrome.lower() == new_palindrome.lower()[::-1]:\n",
    "    print(\"'\" + palindrome + \"'\" + \" is a palindrome!\")\n",
    "else:\n",
    "    print(\"'\" + palindrome + \"'\" + \" is NOT a palindrome!\")"
   ]
  },
  {
   "cell_type": "code",
   "execution_count": null,
   "metadata": {
    "collapsed": true
   },
   "outputs": [],
   "source": []
  }
 ],
 "metadata": {
  "kernelspec": {
   "display_name": "Python 3",
   "language": "python",
   "name": "python3"
  },
  "language_info": {
   "codemirror_mode": {
    "name": "ipython",
    "version": 3
   },
   "file_extension": ".py",
   "mimetype": "text/x-python",
   "name": "python",
   "nbconvert_exporter": "python",
   "pygments_lexer": "ipython3",
   "version": "3.5.2"
  }
 },
 "nbformat": 4,
 "nbformat_minor": 1
}
